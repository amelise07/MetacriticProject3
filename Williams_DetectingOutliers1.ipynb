{
 "cells": [
  {
   "cell_type": "code",
   "execution_count": 45,
   "metadata": {},
   "outputs": [
    {
     "name": "stdout",
     "output_type": "stream",
     "text": [
      "My secret key is 61 characters in length.\n"
     ]
    }
   ],
   "source": [
    "import json\n",
    "\n",
    "with open('Secrets.json') as f:\n",
    "    data = json.load(f)\n",
    "    \n",
    "    connstring = data['connstring']\n",
    "print(f\"My secret key is {len(connstring)} characters in length.\")\n"
   ]
  },
  {
   "cell_type": "code",
   "execution_count": 46,
   "metadata": {},
   "outputs": [
    {
     "name": "stdout",
     "output_type": "stream",
     "text": [
      "Using MongoDB version 5.0.14.\n",
      "This database has the collections ['IMDB', 'Metacritic_Movie']\n"
     ]
    }
   ],
   "source": [
    "import pymongo\n",
    "import certifi\n",
    "\n",
    "client = pymongo.MongoClient(connstring, tlsCAFile=certifi.where())\n",
    "mydb = client[\"DA_320\"]\n",
    "\n",
    "mycol = mydb.list_collection_names()\n",
    "\n",
    "# Here is the list of collections within my database\n",
    "print(f\"Using MongoDB version {client.server_info()['version']}.\")\n",
    "print(f\"This database has the collections {mycol}\")\n"
   ]
  },
  {
   "cell_type": "code",
   "execution_count": 47,
   "metadata": {},
   "outputs": [
    {
     "data": {
      "text/html": [
       "<div>\n",
       "<style scoped>\n",
       "    .dataframe tbody tr th:only-of-type {\n",
       "        vertical-align: middle;\n",
       "    }\n",
       "\n",
       "    .dataframe tbody tr th {\n",
       "        vertical-align: top;\n",
       "    }\n",
       "\n",
       "    .dataframe thead th {\n",
       "        text-align: right;\n",
       "    }\n",
       "</style>\n",
       "<table border=\"1\" class=\"dataframe\">\n",
       "  <thead>\n",
       "    <tr style=\"text-align: right;\">\n",
       "      <th></th>\n",
       "      <th>_id</th>\n",
       "      <th>id</th>\n",
       "      <th>title</th>\n",
       "      <th>runtime</th>\n",
       "      <th>user_rating</th>\n",
       "      <th>votes</th>\n",
       "      <th>mpaa_rating</th>\n",
       "      <th>release_date</th>\n",
       "      <th>budget</th>\n",
       "      <th>opening_weekend</th>\n",
       "      <th>gross_sales</th>\n",
       "      <th>genres</th>\n",
       "      <th>cast</th>\n",
       "      <th>director</th>\n",
       "      <th>producer</th>\n",
       "      <th>company</th>\n",
       "    </tr>\n",
       "  </thead>\n",
       "  <tbody>\n",
       "    <tr>\n",
       "      <th>0</th>\n",
       "      <td>63782e3fed3f19bde22991e1</td>\n",
       "      <td>77631</td>\n",
       "      <td>Grease</td>\n",
       "      <td>110</td>\n",
       "      <td>7.2</td>\n",
       "      <td>265183</td>\n",
       "      <td>TV-14::(D)</td>\n",
       "      <td>6/13/1978</td>\n",
       "      <td>6000000</td>\n",
       "      <td>60759</td>\n",
       "      <td>394955690</td>\n",
       "      <td>Comedy, Musical, Romance</td>\n",
       "      <td>John Travolta, Olivia Newton-John, Stockard Ch...</td>\n",
       "      <td>Randal Kleiser</td>\n",
       "      <td>Allan Carr, Neil A. Machlis, Robert Stigwood</td>\n",
       "      <td>Paramount Pictures, Robert Stigwood Organizati...</td>\n",
       "    </tr>\n",
       "    <tr>\n",
       "      <th>1</th>\n",
       "      <td>63782e3fed3f19bde22991e2</td>\n",
       "      <td>78346</td>\n",
       "      <td>Superman</td>\n",
       "      <td>143</td>\n",
       "      <td>7.4</td>\n",
       "      <td>172769</td>\n",
       "      <td>TV-PG::(LV)</td>\n",
       "      <td>12/10/1978</td>\n",
       "      <td>55000000</td>\n",
       "      <td>7465343</td>\n",
       "      <td>166200000</td>\n",
       "      <td>Action, Adventure, Sci-Fi</td>\n",
       "      <td>Marlon Brando, Gene Hackman, Christopher Reeve...</td>\n",
       "      <td>Richard Donner</td>\n",
       "      <td>Charles Greenlaw, Richard Lester, Alexander Sa...</td>\n",
       "      <td>Dovemead Films, Film Export A.G., Internationa...</td>\n",
       "    </tr>\n",
       "    <tr>\n",
       "      <th>2</th>\n",
       "      <td>63782e3fed3f19bde22991e3</td>\n",
       "      <td>77416</td>\n",
       "      <td>The Deer Hunter</td>\n",
       "      <td>183</td>\n",
       "      <td>8.1</td>\n",
       "      <td>334827</td>\n",
       "      <td>R</td>\n",
       "      <td>12/8/1978</td>\n",
       "      <td>15000000</td>\n",
       "      <td>NULL</td>\n",
       "      <td>NULL</td>\n",
       "      <td>Drama, War</td>\n",
       "      <td>Robert De Niro, John Cazale, John Savage, Chri...</td>\n",
       "      <td>Michael Cimino</td>\n",
       "      <td>Joann Carelli, Michael Cimino, Michael Deeley,...</td>\n",
       "      <td>EMI Films, Universal Pictures</td>\n",
       "    </tr>\n",
       "    <tr>\n",
       "      <th>3</th>\n",
       "      <td>63782e3fed3f19bde22991e4</td>\n",
       "      <td>77651</td>\n",
       "      <td>Halloween</td>\n",
       "      <td>91</td>\n",
       "      <td>7.7</td>\n",
       "      <td>267109</td>\n",
       "      <td>TV-14</td>\n",
       "      <td>10/25/1978</td>\n",
       "      <td>300000</td>\n",
       "      <td>NULL</td>\n",
       "      <td>70000000</td>\n",
       "      <td>Horror, Thriller</td>\n",
       "      <td>Donald Pleasence, Jamie Lee Curtis, Nancy Kyes...</td>\n",
       "      <td>John Carpenter</td>\n",
       "      <td>Moustapha Akkad, John Carpenter, Debra Hill, K...</td>\n",
       "      <td>Compass International Pictures, Falcon Interna...</td>\n",
       "    </tr>\n",
       "    <tr>\n",
       "      <th>4</th>\n",
       "      <td>63782e3fed3f19bde22991e5</td>\n",
       "      <td>77975</td>\n",
       "      <td>National Lampoon's Animal House</td>\n",
       "      <td>109</td>\n",
       "      <td>7.4</td>\n",
       "      <td>119917</td>\n",
       "      <td>TV-14::(DLSV, TV Rating.)</td>\n",
       "      <td>7/27/1978</td>\n",
       "      <td>3000000</td>\n",
       "      <td>201747</td>\n",
       "      <td>3371006</td>\n",
       "      <td>Comedy</td>\n",
       "      <td>Tom Hulce, Stephen Furst, Mark Metcalf, Mary L...</td>\n",
       "      <td>John Landis</td>\n",
       "      <td>Ivan Reitman, Matty Simmons</td>\n",
       "      <td>Universal Pictures, Oregon Film Factory, Stage...</td>\n",
       "    </tr>\n",
       "  </tbody>\n",
       "</table>\n",
       "</div>"
      ],
      "text/plain": [
       "                        _id     id                            title runtime  \\\n",
       "0  63782e3fed3f19bde22991e1  77631                           Grease     110   \n",
       "1  63782e3fed3f19bde22991e2  78346                         Superman     143   \n",
       "2  63782e3fed3f19bde22991e3  77416                  The Deer Hunter     183   \n",
       "3  63782e3fed3f19bde22991e4  77651                        Halloween      91   \n",
       "4  63782e3fed3f19bde22991e5  77975  National Lampoon's Animal House     109   \n",
       "\n",
       "  user_rating   votes                mpaa_rating release_date    budget  \\\n",
       "0         7.2  265183                 TV-14::(D)    6/13/1978   6000000   \n",
       "1         7.4  172769                TV-PG::(LV)   12/10/1978  55000000   \n",
       "2         8.1  334827                          R    12/8/1978  15000000   \n",
       "3         7.7  267109                      TV-14   10/25/1978    300000   \n",
       "4         7.4  119917  TV-14::(DLSV, TV Rating.)    7/27/1978   3000000   \n",
       "\n",
       "  opening_weekend gross_sales                     genres  \\\n",
       "0           60759   394955690   Comedy, Musical, Romance   \n",
       "1         7465343   166200000  Action, Adventure, Sci-Fi   \n",
       "2            NULL        NULL                 Drama, War   \n",
       "3            NULL    70000000           Horror, Thriller   \n",
       "4          201747     3371006                     Comedy   \n",
       "\n",
       "                                                cast        director  \\\n",
       "0  John Travolta, Olivia Newton-John, Stockard Ch...  Randal Kleiser   \n",
       "1  Marlon Brando, Gene Hackman, Christopher Reeve...  Richard Donner   \n",
       "2  Robert De Niro, John Cazale, John Savage, Chri...  Michael Cimino   \n",
       "3  Donald Pleasence, Jamie Lee Curtis, Nancy Kyes...  John Carpenter   \n",
       "4  Tom Hulce, Stephen Furst, Mark Metcalf, Mary L...     John Landis   \n",
       "\n",
       "                                            producer  \\\n",
       "0       Allan Carr, Neil A. Machlis, Robert Stigwood   \n",
       "1  Charles Greenlaw, Richard Lester, Alexander Sa...   \n",
       "2  Joann Carelli, Michael Cimino, Michael Deeley,...   \n",
       "3  Moustapha Akkad, John Carpenter, Debra Hill, K...   \n",
       "4                        Ivan Reitman, Matty Simmons   \n",
       "\n",
       "                                             company  \n",
       "0  Paramount Pictures, Robert Stigwood Organizati...  \n",
       "1  Dovemead Films, Film Export A.G., Internationa...  \n",
       "2                      EMI Films, Universal Pictures  \n",
       "3  Compass International Pictures, Falcon Interna...  \n",
       "4  Universal Pictures, Oregon Film Factory, Stage...  "
      ]
     },
     "execution_count": 47,
     "metadata": {},
     "output_type": "execute_result"
    }
   ],
   "source": [
    "import pandas as pd\n",
    "\n",
    "# Retrieve all records from a collection - this can be a large amount of data!\n",
    "cursor = mydb[\"IMDB\"].find()\n",
    "\n",
    "# Convert this information into a Pandas dataframe\n",
    "imdb = pd.DataFrame(cursor)\n",
    "\n",
    "# Make sure we've read the information correctly\n",
    "imdb.head()\n"
   ]
  },
  {
   "cell_type": "code",
   "execution_count": 48,
   "metadata": {},
   "outputs": [],
   "source": [
    "# Transform and standardize the columns\n",
    "imdb.release_date = pd.to_datetime(imdb.release_date, errors='coerce')\n",
    "imdb.budget = pd.to_numeric(imdb.budget, errors='coerce')\n",
    "imdb.runtime = pd.to_numeric(imdb.runtime, errors='coerce')\n"
   ]
  },
  {
   "cell_type": "code",
   "execution_count": 54,
   "metadata": {},
   "outputs": [
    {
     "ename": "SyntaxError",
     "evalue": "invalid syntax (2552618568.py, line 1)",
     "output_type": "error",
     "traceback": [
      "\u001b[1;36m  Input \u001b[1;32mIn [54]\u001b[1;36m\u001b[0m\n\u001b[1;33m    import matplotlib import pyplot\u001b[0m\n\u001b[1;37m                      ^\u001b[0m\n\u001b[1;31mSyntaxError\u001b[0m\u001b[1;31m:\u001b[0m invalid syntax\n"
     ]
    }
   ],
   "source": [
    "import matplotlib.pyplot as plt\n",
    "\n",
    "plt.title(' Budget distribution VS Release Date')\n",
    "plt.xlabel('Release Date')\n",
    "plt.ylabel('Budget')\n",
    "plt.scatter(imdb['release_date'], imdb['budget'])\n",
    "plt.show()\n",
    "\n"
   ]
  },
  {
   "cell_type": "code",
   "execution_count": 51,
   "metadata": {},
   "outputs": [
    {
     "data": {
      "image/png": "[encoded data removed]",
      "text/plain": [
       "<Figure size 432x288 with 1 Axes>"
      ]
     },
     "metadata": {
      "needs_background": "light"
     },
     "output_type": "display_data"
    }
   ],
   "source": [
    "plt.title(' runtime VS Release Date')\n",
    "plt.xlabel('Release Date')\n",
    "plt.ylabel('runtime')\n",
    "plt.scatter(imdb['release_date'], imdb['runtime'])\n",
    "plt.show()"
   ]
  },
  {
   "cell_type": "markdown",
   "metadata": {},
   "source": []
  }
 ],
 "metadata": {
  "kernelspec": {
   "display_name": "Python 3.10.1 64-bit",
   "language": "python",
   "name": "python3"
  },
  "language_info": {
   "codemirror_mode": {
    "name": "ipython",
    "version": 3
   },
   "file_extension": ".py",
   "mimetype": "text/x-python",
   "name": "python",
   "nbconvert_exporter": "python",
   "pygments_lexer": "ipython3",
   "version": "3.10.1"
  },
  "orig_nbformat": 4,
  "vscode": {
   "interpreter": {
    "hash": "261549f16ab087624294dd5016993cf8beaa008b7229d87128adf0136534894d"
   }
  }
 },
 "nbformat": 4,
 "nbformat_minor": 2
}
